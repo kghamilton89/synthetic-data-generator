{
 "cells": [
  {
   "cell_type": "code",
   "execution_count": null,
   "metadata": {},
   "outputs": [],
   "source": [
    "import pandas as pd\n",
    "from mostlyai.sdk import MostlyAI\n",
    "\n",
    "# load original time series data\n",
    "repo_url = 'https://github.com/mostly-ai/public-demo-data/raw/refs/heads/dev/cdnow/'\n",
    "df_original_purchases = pd.read_csv(f'{repo_url}/purchases.csv.gz')[['users_id', 'date', 'cds', 'amt']]\n",
    "\n",
    "# ensure correct data type for DATE column\n",
    "df_original_purchases['date'] = pd.to_datetime(df_original_purchases['date'])\n",
    "\n",
    "# extract subject table from time-series data\n",
    "df_original_users = df_original_purchases[['users_id']].drop_duplicates()\n",
    "\n",
    "# instantiate SDK\n",
    "mostly = MostlyAI()\n",
    "\n",
    "# train a generator\n",
    "g = mostly.train(config={\n",
    "    'name': 'CDNOW',                      # name of the generator\n",
    "    'tables': [{                          # provide list of table(s)\n",
    "        'name': 'users',                  # name of the table\n",
    "        'data': df_original_users,        # the original data as pd.DataFrame\n",
    "        'primary_key': 'users_id',\n",
    "    }, {\n",
    "        'name': 'purchases',              # name of the table\n",
    "        'data': df_original_purchases,    # the original data as pd.DataFrame\n",
    "        'foreign_keys': [                 # foreign key configurations\n",
    "            {'column': 'users_id', 'referenced_table': 'users', 'is_context': True},\n",
    "        ],\n",
    "        'tabular_model_configuration': {\n",
    "            'max_training_time': 2,       # cap runtime for demo; set None for max accuracy\n",
    "        },\n",
    "    }],\n",
    "})\n",
    "\n",
    "# show Model QA reports\n",
    "g.reports(display=True)"
   ]
  },
  {
   "cell_type": "code",
   "execution_count": null,
   "metadata": {},
   "outputs": [],
   "source": [
    "syn = mostly.probe(g, size=1000)\n",
    "syn['purchases'].sort_values(['users_id', 'date'])"
   ]
  }
 ],
 "metadata": {
  "kernelspec": {
   "display_name": "mostly",
   "language": "python",
   "name": "python3"
  },
  "language_info": {
   "name": "python",
   "version": "3.12.0"
  }
 },
 "nbformat": 4,
 "nbformat_minor": 2
}
