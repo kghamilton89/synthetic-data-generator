{
 "cells": [
  {
   "cell_type": "code",
   "execution_count": null,
   "metadata": {},
   "outputs": [],
   "source": [
    "import pandas as pd\n",
    "from mostlyai.sdk import MostlyAI\n",
    "\n",
    "# load original data\n",
    "repo_url = 'https://github.com/mostly-ai/public-demo-data'\n",
    "df_original = pd.read_csv(f'{repo_url}/raw/dev/creditcard_default/creditcard_default.csv.gz')\n",
    "\n",
    "# instantiate SDK\n",
    "mostly = MostlyAI(local=True)\n",
    "\n",
    "# train a generator\n",
    "g = mostly.train(config={\n",
    "        'name': 'Credit Card Fraud',          # name of the generator\n",
    "        'tables': [{                         # provide list of table(s)\n",
    "            'name': 'fraud',                # name of the table\n",
    "            'data': df_original,             # the original data as pd.DataFrame\n",
    "            'tabular_model_configuration': { # tabular model configuration (optional)\n",
    "                'max_training_time': 2,      # cap runtime for demo; set None for max accuracy\n",
    "                # model, max_epochs,,..      # further model configurations (optional)\n",
    "                'differential_privacy': {    # differential privacy configuration (optional)\n",
    "                    'max_epsilon': 5.0,      # - max epsilon value, used as stopping criterion\n",
    "                    'delta': 1e-5,           # - delta value\n",
    "                }\n",
    "            },\n",
    "            # columns, keys, compute,..      # further table configurations (optional)\n",
    "        }]\n",
    "    },\n",
    "    start=True,                              # start training immediately (default: True)\n",
    "    wait=True,                               # wait for completion (default: True)\n",
    ")"
   ]
  },
  {
   "cell_type": "code",
   "execution_count": null,
   "metadata": {},
   "outputs": [],
   "source": []
  }
 ],
 "metadata": {
  "kernelspec": {
   "display_name": "mostly",
   "language": "python",
   "name": "python3"
  },
  "language_info": {
   "name": "python",
   "version": "3.12.0"
  }
 },
 "nbformat": 4,
 "nbformat_minor": 2
}
