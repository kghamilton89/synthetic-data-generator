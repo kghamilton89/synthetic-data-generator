{
 "cells": [
  {
   "cell_type": "code",
   "execution_count": null,
   "metadata": {},
   "outputs": [
    {
     "data": {
      "text/html": [
       "<pre style=\"white-space:pre;overflow-x:auto;line-height:normal;font-family:Menlo,'DejaVu Sans Mono',consolas,'Courier New',monospace\">Initializing <span style=\"font-weight: bold\">Synthetic Data SDK</span> <span style=\"color: #008080; text-decoration-color: #008080; font-weight: bold\">4.4</span>.<span style=\"color: #008080; text-decoration-color: #008080; font-weight: bold\">2</span> in <span style=\"font-weight: bold\">CLIENT mode</span> 📡\n",
       "</pre>\n"
      ],
      "text/plain": [
       "Initializing \u001b[1mSynthetic Data SDK\u001b[0m \u001b[1;36m4.4\u001b[0m.\u001b[1;36m2\u001b[0m in \u001b[1mCLIENT mode\u001b[0m 📡\n"
      ]
     },
     "metadata": {},
     "output_type": "display_data"
    },
    {
     "data": {
      "text/html": [
       "<pre style=\"white-space:pre;overflow-x:auto;line-height:normal;font-family:Menlo,'DejaVu Sans Mono',consolas,'Courier New',monospace\">Connected to <a href=\"https://app.mostly.ai\" target=\"_blank\"><span style=\"color: #005fff; text-decoration-color: #005fff; text-decoration: underline\">https://app.mostly.ai</span></a> <span style=\"color: #008080; text-decoration-color: #008080; font-weight: bold\">4.4</span>.<span style=\"color: #008080; text-decoration-color: #008080; font-weight: bold\">1</span> as <span style=\"font-weight: bold\">kghamilton@protonmail.com</span>\n",
       "</pre>\n"
      ],
      "text/plain": [
       "Connected to \u001b]8;id=290186;https://app.mostly.ai\u001b\\\u001b[4;38;5;27mhttps://app.mostly.ai\u001b[0m\u001b]8;;\u001b\\ \u001b[1;36m4.4\u001b[0m.\u001b[1;36m1\u001b[0m as \u001b[1mkghamilton@protonmail.com\u001b[0m\n"
      ]
     },
     "metadata": {},
     "output_type": "display_data"
    },
    {
     "data": {
      "text/html": [
       "<pre style=\"white-space:pre;overflow-x:auto;line-height:normal;font-family:Menlo,'DejaVu Sans Mono',consolas,'Courier New',monospace\">Created generator <a href=\"https://app.mostly.ai/d/generators/fb396212-2156-48c5-b456-5ec0adc718ed\" target=\"_blank\"><span style=\"color: #005fff; text-decoration-color: #005fff; text-decoration: underline\">fb396212-2156-48c5-b456-5ec0adc718ed</span></a>\n",
       "</pre>\n"
      ],
      "text/plain": [
       "Created generator \u001b]8;id=549240;https://app.mostly.ai/d/generators/fb396212-2156-48c5-b456-5ec0adc718ed\u001b\\\u001b[4;38;5;27mfb396212-2156-48c5-b456-5ec0adc718ed\u001b[0m\u001b]8;;\u001b\\\n"
      ]
     },
     "metadata": {},
     "output_type": "display_data"
    },
    {
     "data": {
      "text/html": [
       "<pre style=\"white-space:pre;overflow-x:auto;line-height:normal;font-family:Menlo,'DejaVu Sans Mono',consolas,'Courier New',monospace\">Started generator training\n",
       "</pre>\n"
      ],
      "text/plain": [
       "Started generator training\n"
      ]
     },
     "metadata": {},
     "output_type": "display_data"
    },
    {
     "data": {
      "application/vnd.jupyter.widget-view+json": {
       "model_id": "d12f7077ecd247f7982604c53954e184",
       "version_major": 2,
       "version_minor": 0
      },
      "text/plain": [
       "Output()"
      ]
     },
     "metadata": {},
     "output_type": "display_data"
    }
   ],
   "source": [
    "import pandas as pd\n",
    "from mostlyai.sdk import MostlyAI\n",
    "\n",
    "# load original data\n",
    "repo_url = 'https://github.com/mostly-ai/public-demo-data'\n",
    "df_original = pd.read_csv(f'{repo_url}/raw/dev/census/census.csv.gz')\n",
    "\n",
    "# instantiate SDK\n",
    "mostly = MostlyAI()\n",
    "\n",
    "# train a generator\n",
    "g = mostly.train(config={\n",
    "        'name': 'US Census Income',          # name of the generator\n",
    "        'tables': [{                         # provide list of table(s)\n",
    "            'name': 'census',                # name of the table\n",
    "            'data': df_original,             # the original data as pd.DataFrame\n",
    "            'tabular_model_configuration': { # tabular model configuration (optional)\n",
    "                'max_training_time': 2,      # cap runtime for demo; set None for max accuracy\n",
    "                # model, max_epochs,,..      # further model configurations (optional)\n",
    "                'differential_privacy': {    # differential privacy configuration (optional)\n",
    "                    'max_epsilon': 5.0,      # - max epsilon value, used as stopping criterion\n",
    "                    'delta': 1e-5,           # - delta value\n",
    "                }\n",
    "            },\n",
    "            # columns, keys, compute,..      # further table configurations (optional)\n",
    "        }]\n",
    "    },\n",
    "    start=True,                              # start training immediately (default: True)\n",
    "    wait=True,                               # wait for completion (default: True)\n",
    ")\n",
    "g"
   ]
  },
  {
   "cell_type": "code",
   "execution_count": 1,
   "metadata": {},
   "outputs": [
    {
     "ename": "NameError",
     "evalue": "name 'mostly' is not defined",
     "output_type": "error",
     "traceback": [
      "\u001b[31m---------------------------------------------------------------------------\u001b[39m",
      "\u001b[31mNameError\u001b[39m                                 Traceback (most recent call last)",
      "\u001b[36mCell\u001b[39m\u001b[36m \u001b[39m\u001b[32mIn[1]\u001b[39m\u001b[32m, line 1\u001b[39m\n\u001b[32m----> \u001b[39m\u001b[32m1\u001b[39m df_samples = \u001b[43mmostly\u001b[49m.probe(g, size=\u001b[32m100\u001b[39m)\n\u001b[32m      2\u001b[39m df_samples\n",
      "\u001b[31mNameError\u001b[39m: name 'mostly' is not defined"
     ]
    }
   ],
   "source": [
    "df_samples = mostly.probe(g, size=100)\n",
    "df_samples"
   ]
  },
  {
   "cell_type": "code",
   "execution_count": null,
   "metadata": {},
   "outputs": [],
   "source": [
    "df_samples = mostly.probe(g, seed=pd.DataFrame({\n",
    "    'age': [28, 44],\n",
    "    'sex': ['Male', 'Female'],\n",
    "    'native_country': ['Cuba', 'Mexico'],\n",
    "}))\n",
    "df_samples"
   ]
  },
  {
   "cell_type": "code",
   "execution_count": null,
   "metadata": {},
   "outputs": [],
   "source": [
    "sd = mostly.generate(g, size=500_000)\n",
    "df_synthetic = sd.data()\n",
    "df_synthetic"
   ]
  }
 ],
 "metadata": {
  "kernelspec": {
   "display_name": "mostly",
   "language": "python",
   "name": "python3"
  },
  "language_info": {
   "codemirror_mode": {
    "name": "ipython",
    "version": 3
   },
   "file_extension": ".py",
   "mimetype": "text/x-python",
   "name": "python",
   "nbconvert_exporter": "python",
   "pygments_lexer": "ipython3",
   "version": "3.12.0"
  }
 },
 "nbformat": 4,
 "nbformat_minor": 2
}
