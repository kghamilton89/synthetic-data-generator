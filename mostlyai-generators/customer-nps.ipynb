{
 "cells": [
  {
   "cell_type": "code",
   "execution_count": null,
   "metadata": {},
   "outputs": [
    {
     "data": {
      "text/html": [
       "<pre style=\"white-space:pre;overflow-x:auto;line-height:normal;font-family:Menlo,'DejaVu Sans Mono',consolas,'Courier New',monospace\">Initializing <span style=\"font-weight: bold\">Synthetic Data SDK</span> <span style=\"color: #008080; text-decoration-color: #008080; font-weight: bold\">4.4</span>.<span style=\"color: #008080; text-decoration-color: #008080; font-weight: bold\">2</span> in <span style=\"font-weight: bold\">LOCAL mode</span> 🏠\n",
       "</pre>\n"
      ],
      "text/plain": [
       "Initializing \u001b[1mSynthetic Data SDK\u001b[0m \u001b[1;36m4.4\u001b[0m.\u001b[1;36m2\u001b[0m in \u001b[1mLOCAL mode\u001b[0m 🏠\n"
      ]
     },
     "metadata": {},
     "output_type": "display_data"
    },
    {
     "data": {
      "text/html": [
       "<pre style=\"white-space:pre;overflow-x:auto;line-height:normal;font-family:Menlo,'DejaVu Sans Mono',consolas,'Courier New',monospace\">Connected to <a href=\"file:///Users/kenneth.hamilton/mostlyai\" target=\"_blank\"><span style=\"color: #005fff; text-decoration-color: #005fff; text-decoration: underline\">/Users/kenneth.hamilton/mostlyai</span></a> with <span style=\"color: #008080; text-decoration-color: #008080; font-weight: bold\">16</span> GB RAM, <span style=\"color: #008080; text-decoration-color: #008080; font-weight: bold\">10</span> CPUs, <span style=\"color: #008080; text-decoration-color: #008080; font-weight: bold\">0</span> GPUs available\n",
       "</pre>\n"
      ],
      "text/plain": [
       "Connected to \u001b]8;id=741186;file:///Users/kenneth.hamilton/mostlyai\u001b\\\u001b[4;38;5;27m/Users/kenneth.hamilton/\u001b[0m\u001b]8;;\u001b\\\u001b]8;id=515024;file:///Users/kenneth.hamilton/mostlyai\u001b\\\u001b[4;38;5;27mmostlyai\u001b[0m\u001b]8;;\u001b\\ with \u001b[1;36m16\u001b[0m GB RAM, \u001b[1;36m10\u001b[0m CPUs, \u001b[1;36m0\u001b[0m GPUs available\n"
      ]
     },
     "metadata": {},
     "output_type": "display_data"
    },
    {
     "data": {
      "text/html": [
       "<pre style=\"white-space:pre;overflow-x:auto;line-height:normal;font-family:Menlo,'DejaVu Sans Mono',consolas,'Courier New',monospace\">Created generator <span style=\"color: #005fff; text-decoration-color: #005fff\">e8ecc2bf-ccba-4172-b975-4078f68e3aa9</span>\n",
       "</pre>\n"
      ],
      "text/plain": [
       "Created generator \u001b[38;5;27me8ecc2bf-ccba-4172-b975-4078f68e3aa9\u001b[0m\n"
      ]
     },
     "metadata": {},
     "output_type": "display_data"
    },
    {
     "data": {
      "text/html": [
       "<pre style=\"white-space:pre;overflow-x:auto;line-height:normal;font-family:Menlo,'DejaVu Sans Mono',consolas,'Courier New',monospace\">Started generator training\n",
       "</pre>\n"
      ],
      "text/plain": [
       "Started generator training\n"
      ]
     },
     "metadata": {},
     "output_type": "display_data"
    },
    {
     "data": {
      "application/vnd.jupyter.widget-view+json": {
       "model_id": "6a156f7411e4478caaa7ff2059b1f63a",
       "version_major": 2,
       "version_minor": 0
      },
      "text/plain": [
       "Output()"
      ]
     },
     "metadata": {},
     "output_type": "display_data"
    },
    {
     "data": {
      "text/html": [
       "<pre style=\"white-space:pre;overflow-x:auto;line-height:normal;font-family:Menlo,'DejaVu Sans Mono',consolas,'Courier New',monospace\"></pre>\n"
      ],
      "text/plain": []
     },
     "metadata": {},
     "output_type": "display_data"
    },
    {
     "data": {
      "text/html": [
       "<pre style=\"white-space:pre;overflow-x:auto;line-height:normal;font-family:Menlo,'DejaVu Sans Mono',consolas,'Courier New',monospace\">🎉 <span style=\"color: #008000; text-decoration-color: #008000; font-weight: bold\">Your generator is ready!</span> Use it to create synthetic data. Publish it so others can do the same.\n",
       "</pre>\n"
      ],
      "text/plain": [
       "🎉 \u001b[1;32mYour generator is ready!\u001b[0m Use it to create synthetic data. Publish it so others can do the same.\n"
      ]
     },
     "metadata": {},
     "output_type": "display_data"
    }
   ],
   "source": [
    "import pandas as pd\n",
    "from mostlyai.sdk import MostlyAI\n",
    "\n",
    "# load original data\n",
    "df_original = pd.read_csv('https://huggingface.co/datasets/ZennyKenny/demo_customer_nps/raw/main/demo_customer_feedback.csv')\n",
    "\n",
    "# instantiate SDK\n",
    "mostly = MostlyAI(local=True)\n",
    "\n",
    "# train a generator\n",
    "g = mostly.train(config={\n",
    "        'name': 'Net Promotor Score',          # name of the generator\n",
    "        'tables': [{                         # provide list of table(s)\n",
    "            'name': 'train',                # name of the table\n",
    "            'data': df_original,             # the original data as pd.DataFrame\n",
    "            'tabular_model_configuration': { # tabular model configuration (optional)\n",
    "                'max_training_time': 2,      # cap runtime for demo; set None for max accuracy\n",
    "                # 'model': 'microsoft/phi-1_5',\n",
    "                'differential_privacy': {    # differential privacy configuration (optional)\n",
    "                    'max_epsilon': 5.0,      # - max epsilon value, used as stopping criterion\n",
    "                    'delta': 1e-5,           # - delta value\n",
    "                }\n",
    "            },\n",
    "        }]\n",
    "    },\n",
    "    start=True,                              # start training immediately (default: True)\n",
    "    wait=True,                               # wait for completion (default: True)\n",
    ")"
   ]
  },
  {
   "cell_type": "code",
   "execution_count": 7,
   "metadata": {},
   "outputs": [
    {
     "data": {
      "text/html": [
       "<pre style=\"white-space:pre;overflow-x:auto;line-height:normal;font-family:Menlo,'DejaVu Sans Mono',consolas,'Courier New',monospace\">Initializing <span style=\"font-weight: bold\">Synthetic Data SDK</span> <span style=\"color: #008080; text-decoration-color: #008080; font-weight: bold\">4.4</span>.<span style=\"color: #008080; text-decoration-color: #008080; font-weight: bold\">2</span> in <span style=\"font-weight: bold\">LOCAL mode</span> 🏠\n",
       "</pre>\n"
      ],
      "text/plain": [
       "Initializing \u001b[1mSynthetic Data SDK\u001b[0m \u001b[1;36m4.4\u001b[0m.\u001b[1;36m2\u001b[0m in \u001b[1mLOCAL mode\u001b[0m 🏠\n"
      ]
     },
     "metadata": {},
     "output_type": "display_data"
    },
    {
     "data": {
      "text/html": [
       "<pre style=\"white-space:pre;overflow-x:auto;line-height:normal;font-family:Menlo,'DejaVu Sans Mono',consolas,'Courier New',monospace\">Connected to <a href=\"file:///Users/kenneth.hamilton/mostlyai\" target=\"_blank\"><span style=\"color: #005fff; text-decoration-color: #005fff; text-decoration: underline\">/Users/kenneth.hamilton/mostlyai</span></a> with <span style=\"color: #008080; text-decoration-color: #008080; font-weight: bold\">16</span> GB RAM, <span style=\"color: #008080; text-decoration-color: #008080; font-weight: bold\">10</span> CPUs, <span style=\"color: #008080; text-decoration-color: #008080; font-weight: bold\">0</span> GPUs available\n",
       "</pre>\n"
      ],
      "text/plain": [
       "Connected to \u001b]8;id=316350;file:///Users/kenneth.hamilton/mostlyai\u001b\\\u001b[4;38;5;27m/Users/kenneth.hamilton/\u001b[0m\u001b]8;;\u001b\\\u001b]8;id=254202;file:///Users/kenneth.hamilton/mostlyai\u001b\\\u001b[4;38;5;27mmostlyai\u001b[0m\u001b]8;;\u001b\\ with \u001b[1;36m16\u001b[0m GB RAM, \u001b[1;36m10\u001b[0m CPUs, \u001b[1;36m0\u001b[0m GPUs available\n"
      ]
     },
     "metadata": {},
     "output_type": "display_data"
    },
    {
     "data": {
      "text/plain": [
       "{'TABULAR': ['MOSTLY_AI/Small', 'MOSTLY_AI/Medium', 'MOSTLY_AI/Large'],\n",
       " 'LANGUAGE': ['MOSTLY_AI/LSTMFromScratch-3m',\n",
       "  'microsoft/phi-1_5',\n",
       "  '(HuggingFace-hosted models)']}"
      ]
     },
     "execution_count": 7,
     "metadata": {},
     "output_type": "execute_result"
    }
   ],
   "source": [
    "from mostlyai.sdk import MostlyAI\n",
    "\n",
    "# client mode\n",
    "mostly = MostlyAI(local=True)\n",
    "\n",
    "mostly.models()"
   ]
  },
  {
   "cell_type": "code",
   "execution_count": 8,
   "metadata": {},
   "outputs": [
    {
     "data": {
      "text/html": [
       "<div>\n",
       "<style scoped>\n",
       "    .dataframe tbody tr th:only-of-type {\n",
       "        vertical-align: middle;\n",
       "    }\n",
       "\n",
       "    .dataframe tbody tr th {\n",
       "        vertical-align: top;\n",
       "    }\n",
       "\n",
       "    .dataframe thead th {\n",
       "        text-align: right;\n",
       "    }\n",
       "</style>\n",
       "<table border=\"1\" class=\"dataframe\">\n",
       "  <thead>\n",
       "    <tr style=\"text-align: right;\">\n",
       "      <th></th>\n",
       "      <th>customer_id</th>\n",
       "      <th>customer_name</th>\n",
       "      <th>customer_segment</th>\n",
       "      <th>customer_nps</th>\n",
       "      <th>customer_comment</th>\n",
       "    </tr>\n",
       "  </thead>\n",
       "  <tbody>\n",
       "    <tr>\n",
       "      <th>0</th>\n",
       "      <td>467826</td>\n",
       "      <td>_RARE_</td>\n",
       "      <td>smb</td>\n",
       "      <td>9.3</td>\n",
       "      <td>Product is okay, but it feels overpriced for w...</td>\n",
       "    </tr>\n",
       "    <tr>\n",
       "      <th>1</th>\n",
       "      <td>419978</td>\n",
       "      <td>_RARE_</td>\n",
       "      <td>smb</td>\n",
       "      <td>6.9</td>\n",
       "      <td>User-friendly platform and exceptional support...</td>\n",
       "    </tr>\n",
       "    <tr>\n",
       "      <th>2</th>\n",
       "      <td>330872</td>\n",
       "      <td>_RARE_</td>\n",
       "      <td>smb</td>\n",
       "      <td>1.9</td>\n",
       "      <td>Pretty good value for money, but some features...</td>\n",
       "    </tr>\n",
       "    <tr>\n",
       "      <th>3</th>\n",
       "      <td>863351</td>\n",
       "      <td>_RARE_</td>\n",
       "      <td>enterprise</td>\n",
       "      <td>3.1</td>\n",
       "      <td>Excellent customer care and great value for th...</td>\n",
       "    </tr>\n",
       "    <tr>\n",
       "      <th>4</th>\n",
       "      <td>751376</td>\n",
       "      <td>_RARE_</td>\n",
       "      <td>sole_proprietor</td>\n",
       "      <td>2.4</td>\n",
       "      <td>Worst product I’ve used. Would not recommend t...</td>\n",
       "    </tr>\n",
       "    <tr>\n",
       "      <th>...</th>\n",
       "      <td>...</td>\n",
       "      <td>...</td>\n",
       "      <td>...</td>\n",
       "      <td>...</td>\n",
       "      <td>...</td>\n",
       "    </tr>\n",
       "    <tr>\n",
       "      <th>95</th>\n",
       "      <td>110118</td>\n",
       "      <td>_RARE_</td>\n",
       "      <td>smb</td>\n",
       "      <td>6.4</td>\n",
       "      <td>Excellent customer care and great value for th...</td>\n",
       "    </tr>\n",
       "    <tr>\n",
       "      <th>96</th>\n",
       "      <td>925582</td>\n",
       "      <td>_RARE_</td>\n",
       "      <td>smb</td>\n",
       "      <td>1.3</td>\n",
       "      <td>Support team is responsive, but the platform i...</td>\n",
       "    </tr>\n",
       "    <tr>\n",
       "      <th>97</th>\n",
       "      <td>455365</td>\n",
       "      <td>_RARE_</td>\n",
       "      <td>smb</td>\n",
       "      <td>9.2</td>\n",
       "      <td>User-friendly platform and exceptional support...</td>\n",
       "    </tr>\n",
       "    <tr>\n",
       "      <th>98</th>\n",
       "      <td>146910</td>\n",
       "      <td>_RARE_</td>\n",
       "      <td>smb</td>\n",
       "      <td>0.2</td>\n",
       "      <td>Pretty good value for money, but some features...</td>\n",
       "    </tr>\n",
       "    <tr>\n",
       "      <th>99</th>\n",
       "      <td>711777</td>\n",
       "      <td>_RARE_</td>\n",
       "      <td>sole_proprietor</td>\n",
       "      <td>8.4</td>\n",
       "      <td>Average experience, nothing special.</td>\n",
       "    </tr>\n",
       "  </tbody>\n",
       "</table>\n",
       "<p>100 rows × 5 columns</p>\n",
       "</div>"
      ],
      "text/plain": [
       "    customer_id customer_name customer_segment  customer_nps  \\\n",
       "0        467826        _RARE_              smb           9.3   \n",
       "1        419978        _RARE_              smb           6.9   \n",
       "2        330872        _RARE_              smb           1.9   \n",
       "3        863351        _RARE_       enterprise           3.1   \n",
       "4        751376        _RARE_  sole_proprietor           2.4   \n",
       "..          ...           ...              ...           ...   \n",
       "95       110118        _RARE_              smb           6.4   \n",
       "96       925582        _RARE_              smb           1.3   \n",
       "97       455365        _RARE_              smb           9.2   \n",
       "98       146910        _RARE_              smb           0.2   \n",
       "99       711777        _RARE_  sole_proprietor           8.4   \n",
       "\n",
       "                                     customer_comment  \n",
       "0   Product is okay, but it feels overpriced for w...  \n",
       "1   User-friendly platform and exceptional support...  \n",
       "2   Pretty good value for money, but some features...  \n",
       "3   Excellent customer care and great value for th...  \n",
       "4   Worst product I’ve used. Would not recommend t...  \n",
       "..                                                ...  \n",
       "95  Excellent customer care and great value for th...  \n",
       "96  Support team is responsive, but the platform i...  \n",
       "97  User-friendly platform and exceptional support...  \n",
       "98  Pretty good value for money, but some features...  \n",
       "99               Average experience, nothing special.  \n",
       "\n",
       "[100 rows x 5 columns]"
      ]
     },
     "execution_count": 8,
     "metadata": {},
     "output_type": "execute_result"
    }
   ],
   "source": [
    "df_samples = mostly.probe(g, size=100)\n",
    "df_samples"
   ]
  },
  {
   "cell_type": "code",
   "execution_count": 9,
   "metadata": {},
   "outputs": [
    {
     "data": {
      "text/html": [
       "<pre style=\"white-space:pre;overflow-x:auto;line-height:normal;font-family:Menlo,'DejaVu Sans Mono',consolas,'Courier New',monospace\">Created synthetic dataset <span style=\"color: #005fff; text-decoration-color: #005fff\">1232fd1f-9053-4fc9-ac22-8de10827ce86</span> with generator <span style=\"color: #005fff; text-decoration-color: #005fff\">e8ecc2bf-ccba-4172-b975-4078f68e3aa9</span>\n",
       "</pre>\n"
      ],
      "text/plain": [
       "Created synthetic dataset \u001b[38;5;27m1232fd1f-9053-4fc9-ac22-8de10827ce86\u001b[0m with generator \u001b[38;5;27me8ecc2bf-ccba-4172-b975-4078f68e3aa9\u001b[0m\n"
      ]
     },
     "metadata": {},
     "output_type": "display_data"
    },
    {
     "data": {
      "text/html": [
       "<pre style=\"white-space:pre;overflow-x:auto;line-height:normal;font-family:Menlo,'DejaVu Sans Mono',consolas,'Courier New',monospace\">Started synthetic dataset generation\n",
       "</pre>\n"
      ],
      "text/plain": [
       "Started synthetic dataset generation\n"
      ]
     },
     "metadata": {},
     "output_type": "display_data"
    },
    {
     "data": {
      "application/vnd.jupyter.widget-view+json": {
       "model_id": "343c6e8bb0e44a499dcea677402b4058",
       "version_major": 2,
       "version_minor": 0
      },
      "text/plain": [
       "Output()"
      ]
     },
     "metadata": {},
     "output_type": "display_data"
    },
    {
     "data": {
      "text/html": [
       "<pre style=\"white-space:pre;overflow-x:auto;line-height:normal;font-family:Menlo,'DejaVu Sans Mono',consolas,'Courier New',monospace\"></pre>\n"
      ],
      "text/plain": []
     },
     "metadata": {},
     "output_type": "display_data"
    },
    {
     "data": {
      "text/html": [
       "<pre style=\"white-space:pre;overflow-x:auto;line-height:normal;font-family:Menlo,'DejaVu Sans Mono',consolas,'Courier New',monospace\">🎉 <span style=\"color: #008000; text-decoration-color: #008000; font-weight: bold\">Your synthetic dataset is ready!</span> Use it to consume the generated data. Publish it so others can do the same.\n",
       "</pre>\n"
      ],
      "text/plain": [
       "🎉 \u001b[1;32mYour synthetic dataset is ready!\u001b[0m Use it to consume the generated data. Publish it so others can do the same.\n"
      ]
     },
     "metadata": {},
     "output_type": "display_data"
    },
    {
     "data": {
      "text/html": [
       "<div>\n",
       "<style scoped>\n",
       "    .dataframe tbody tr th:only-of-type {\n",
       "        vertical-align: middle;\n",
       "    }\n",
       "\n",
       "    .dataframe tbody tr th {\n",
       "        vertical-align: top;\n",
       "    }\n",
       "\n",
       "    .dataframe thead th {\n",
       "        text-align: right;\n",
       "    }\n",
       "</style>\n",
       "<table border=\"1\" class=\"dataframe\">\n",
       "  <thead>\n",
       "    <tr style=\"text-align: right;\">\n",
       "      <th></th>\n",
       "      <th>customer_id</th>\n",
       "      <th>customer_name</th>\n",
       "      <th>customer_segment</th>\n",
       "      <th>customer_nps</th>\n",
       "      <th>customer_comment</th>\n",
       "    </tr>\n",
       "  </thead>\n",
       "  <tbody>\n",
       "    <tr>\n",
       "      <th>0</th>\n",
       "      <td>841887</td>\n",
       "      <td>_RARE_</td>\n",
       "      <td>sole_proprietor</td>\n",
       "      <td>7.6</td>\n",
       "      <td>Support team is responsive, but the platform i...</td>\n",
       "    </tr>\n",
       "    <tr>\n",
       "      <th>1</th>\n",
       "      <td>387053</td>\n",
       "      <td>_RARE_</td>\n",
       "      <td>sole_proprietor</td>\n",
       "      <td>4.8</td>\n",
       "      <td>Fantastic value and very easy to understand.</td>\n",
       "    </tr>\n",
       "    <tr>\n",
       "      <th>2</th>\n",
       "      <td>471613</td>\n",
       "      <td>_RARE_</td>\n",
       "      <td>sole_proprietor</td>\n",
       "      <td>9.0</td>\n",
       "      <td>Satisfied with the platform, but there is room...</td>\n",
       "    </tr>\n",
       "    <tr>\n",
       "      <th>3</th>\n",
       "      <td>127234</td>\n",
       "      <td>_RARE_</td>\n",
       "      <td>enterprise</td>\n",
       "      <td>2.9</td>\n",
       "      <td>Not worth the price. Very disappointing service.</td>\n",
       "    </tr>\n",
       "    <tr>\n",
       "      <th>4</th>\n",
       "      <td>443536</td>\n",
       "      <td>_RARE_</td>\n",
       "      <td>enterprise</td>\n",
       "      <td>9.2</td>\n",
       "      <td>Terrible experience. The platform is difficult...</td>\n",
       "    </tr>\n",
       "    <tr>\n",
       "      <th>...</th>\n",
       "      <td>...</td>\n",
       "      <td>...</td>\n",
       "      <td>...</td>\n",
       "      <td>...</td>\n",
       "      <td>...</td>\n",
       "    </tr>\n",
       "    <tr>\n",
       "      <th>99995</th>\n",
       "      <td>847432</td>\n",
       "      <td>_RARE_</td>\n",
       "      <td>sole_proprietor</td>\n",
       "      <td>0.2</td>\n",
       "      <td>Terrible experience. The platform is difficult...</td>\n",
       "    </tr>\n",
       "    <tr>\n",
       "      <th>99996</th>\n",
       "      <td>971682</td>\n",
       "      <td>_RARE_</td>\n",
       "      <td>smb</td>\n",
       "      <td>0.3</td>\n",
       "      <td>Terrible experience. The platform is difficult...</td>\n",
       "    </tr>\n",
       "    <tr>\n",
       "      <th>99997</th>\n",
       "      <td>259798</td>\n",
       "      <td>_RARE_</td>\n",
       "      <td>sole_proprietor</td>\n",
       "      <td>8.4</td>\n",
       "      <td>Excellent customer care and great value for th...</td>\n",
       "    </tr>\n",
       "    <tr>\n",
       "      <th>99998</th>\n",
       "      <td>471713</td>\n",
       "      <td>_RARE_</td>\n",
       "      <td>sole_proprietor</td>\n",
       "      <td>0.5</td>\n",
       "      <td>Product is okay, but it feels overpriced for w...</td>\n",
       "    </tr>\n",
       "    <tr>\n",
       "      <th>99999</th>\n",
       "      <td>615788</td>\n",
       "      <td>_RARE_</td>\n",
       "      <td>smb</td>\n",
       "      <td>8.5</td>\n",
       "      <td>Pretty good value for money, but some features...</td>\n",
       "    </tr>\n",
       "  </tbody>\n",
       "</table>\n",
       "<p>100000 rows × 5 columns</p>\n",
       "</div>"
      ],
      "text/plain": [
       "       customer_id customer_name customer_segment  customer_nps  \\\n",
       "0           841887        _RARE_  sole_proprietor           7.6   \n",
       "1           387053        _RARE_  sole_proprietor           4.8   \n",
       "2           471613        _RARE_  sole_proprietor           9.0   \n",
       "3           127234        _RARE_       enterprise           2.9   \n",
       "4           443536        _RARE_       enterprise           9.2   \n",
       "...            ...           ...              ...           ...   \n",
       "99995       847432        _RARE_  sole_proprietor           0.2   \n",
       "99996       971682        _RARE_              smb           0.3   \n",
       "99997       259798        _RARE_  sole_proprietor           8.4   \n",
       "99998       471713        _RARE_  sole_proprietor           0.5   \n",
       "99999       615788        _RARE_              smb           8.5   \n",
       "\n",
       "                                        customer_comment  \n",
       "0      Support team is responsive, but the platform i...  \n",
       "1           Fantastic value and very easy to understand.  \n",
       "2      Satisfied with the platform, but there is room...  \n",
       "3       Not worth the price. Very disappointing service.  \n",
       "4      Terrible experience. The platform is difficult...  \n",
       "...                                                  ...  \n",
       "99995  Terrible experience. The platform is difficult...  \n",
       "99996  Terrible experience. The platform is difficult...  \n",
       "99997  Excellent customer care and great value for th...  \n",
       "99998  Product is okay, but it feels overpriced for w...  \n",
       "99999  Pretty good value for money, but some features...  \n",
       "\n",
       "[100000 rows x 5 columns]"
      ]
     },
     "execution_count": 9,
     "metadata": {},
     "output_type": "execute_result"
    }
   ],
   "source": [
    "sd = mostly.generate(g, size=100_000)\n",
    "df_synthetic = sd.data()\n",
    "df_synthetic"
   ]
  },
  {
   "cell_type": "code",
   "execution_count": 10,
   "metadata": {},
   "outputs": [
    {
     "data": {
      "application/vnd.jupyter.widget-view+json": {
       "model_id": "c3dd17b58e8e45ed872a3f00b289f6f6",
       "version_major": 2,
       "version_minor": 0
      },
      "text/plain": [
       "Uploading the dataset shards:   0%|          | 0/1 [00:00<?, ?it/s]"
      ]
     },
     "metadata": {},
     "output_type": "display_data"
    },
    {
     "data": {
      "application/vnd.jupyter.widget-view+json": {
       "model_id": "23bf6dd96bec485b8d5313bab9501ee3",
       "version_major": 2,
       "version_minor": 0
      },
      "text/plain": [
       "Creating parquet from Arrow format:   0%|          | 0/100 [00:00<?, ?ba/s]"
      ]
     },
     "metadata": {},
     "output_type": "display_data"
    },
    {
     "data": {
      "text/plain": [
       "CommitInfo(commit_url='https://huggingface.co/datasets/ZennyKenny/synthetic-net-promotor-score/commit/a899d5148d605e2330cbd90f77965e12e87593cf', commit_message='Upload dataset', commit_description='', oid='a899d5148d605e2330cbd90f77965e12e87593cf', pr_url=None, repo_url=RepoUrl('https://huggingface.co/datasets/ZennyKenny/synthetic-net-promotor-score', endpoint='https://huggingface.co', repo_type='dataset', repo_id='ZennyKenny/synthetic-net-promotor-score'), pr_revision=None, pr_num=None)"
      ]
     },
     "execution_count": 10,
     "metadata": {},
     "output_type": "execute_result"
    }
   ],
   "source": [
    "from datasets import Dataset\n",
    "\n",
    "airbnb = Dataset.from_pandas(df_synthetic)\n",
    "\n",
    "# Upload each dataset separately\n",
    "airbnb.push_to_hub(\"synthetic-net-promotor-score\")"
   ]
  }
 ],
 "metadata": {
  "kernelspec": {
   "display_name": "mostly",
   "language": "python",
   "name": "python3"
  },
  "language_info": {
   "codemirror_mode": {
    "name": "ipython",
    "version": 3
   },
   "file_extension": ".py",
   "mimetype": "text/x-python",
   "name": "python",
   "nbconvert_exporter": "python",
   "pygments_lexer": "ipython3",
   "version": "3.12.0"
  }
 },
 "nbformat": 4,
 "nbformat_minor": 2
}
